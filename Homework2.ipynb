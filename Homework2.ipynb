{
 "cells": [
  {
   "cell_type": "code",
   "execution_count": null,
   "metadata": {},
   "outputs": [],
   "source": [
    "#GlobalAIHubIntroductionToPythonProgramming-Homework1- User Identification Program"
   ]
  },
  {
   "cell_type": "code",
   "execution_count": null,
   "metadata": {},
   "outputs": [],
   "source": [
    "a=input(\"Please enter your first name: \")\n",
    "b=input(\"Please enter your last name: \")\n",
    "c=int(input(\"Please enter your age: \"))\n",
    "d=int(input(\"Please enter your date of birth year: \"))\n",
    "list1=[a, b, c, d]\n",
    "print(\"Your Name is {} {} .You are {} years old and born in {}.\".format(a,b,c,d))\n",
    "if c<18:\n",
    "    print(\"You can not go out because it is too dangerous\")\n",
    "else: \n",
    "    print(\"You can go out to the street.\")"
   ]
  }
 ],
 "metadata": {
  "kernelspec": {
   "display_name": "Python 3",
   "language": "python",
   "name": "python3"
  },
  "language_info": {
   "codemirror_mode": {
    "name": "ipython",
    "version": 3
   },
   "file_extension": ".py",
   "mimetype": "text/x-python",
   "name": "python",
   "nbconvert_exporter": "python",
   "pygments_lexer": "ipython3",
   "version": "3.9.0"
  }
 },
 "nbformat": 4,
 "nbformat_minor": 4
}
