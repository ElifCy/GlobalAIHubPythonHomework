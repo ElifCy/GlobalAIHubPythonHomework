{
 "cells": [
  {
   "cell_type": "code",
   "execution_count": 17,
   "metadata": {},
   "outputs": [],
   "source": [
    "#GlobalAIHubIntroductionToPythonProgramming-Homework3- Hangman Game"
   ]
  },
  {
   "cell_type": "code",
   "execution_count": null,
   "metadata": {},
   "outputs": [],
   "source": [
    "import time\n",
    "import random\n",
    "name=input(\"Please enter your user name\")\n",
    "print(\"Welcome {}, Enjoy the Game! \".format(name))\n",
    "time.sleep(1)\n",
    "Rules=[\"Do not make 4 mistakes unless game is over!\"\n",
    "       ,\"Make your interpretations with capital letter\"]\n",
    "print(\"Rules: \", Rules)\n",
    "\n",
    "\n",
    "Word_options=[\"PYTHON\", \"CELL\", \"LOGIC\", \"FUTURE\", \"SCIENCE\"]\n",
    "print(\"Let's start to guess!\")\n",
    "selected_word=random.choice(Word_options)\n",
    "print(input(\"Predict a character\"))\n",
    "try1= len(selected_word)\n",
    "known=list()\n",
    "s_word=[\"-\"]*try1\n",
    "turns=5\n",
    "for i in range(len(selected_word)):\n",
    "        known.append(\"_\")\n",
    "while known.count(\"_\")>0:\n",
    "        print(known)\n",
    "        print(\"turns: \", turns)\n",
    "        guess=input(\"Predict a letter\")\n",
    "    \n",
    "        if selected_word.find(guess)==-1:\n",
    "            turns-=1\n",
    "            print(\"Wrong guess!\")\n",
    "            if turns == 0 :\n",
    "                print(\"You lose! Game is over!\")\n",
    "                print(\"The word was {} \".format(selected_word))\n",
    "                break\n",
    "                exit()\n",
    "        else:\n",
    "                for i in range(len(selected_word)):\n",
    "                    if guess == selected_word[i]:\n",
    "                        known[i]=guess\n",
    "                        print(\"Congratulations!\")\n",
    "\n"
   ]
  }
 ],
 "metadata": {
  "kernelspec": {
   "display_name": "Python 3",
   "language": "python",
   "name": "python3"
  },
  "language_info": {
   "codemirror_mode": {
    "name": "ipython",
    "version": 3
   },
   "file_extension": ".py",
   "mimetype": "text/x-python",
   "name": "python",
   "nbconvert_exporter": "python",
   "pygments_lexer": "ipython3",
   "version": "3.9.0"
  }
 },
 "nbformat": 4,
 "nbformat_minor": 4
}
