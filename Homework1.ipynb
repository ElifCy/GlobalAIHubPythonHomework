{
 "cells": [
  {
   "cell_type": "code",
   "execution_count": null,
   "metadata": {},
   "outputs": [],
   "source": [
    "#GlobalAIHubIntroductionToPythonProgramming-Homework1"
   ]
  },
  {
   "cell_type": "code",
   "execution_count": null,
   "metadata": {},
   "outputs": [],
   "source": [
    "first_value= int(input(\"Enter an integer value: \")) \n",
    "print(\"you selected {}\".format(first_value))\n",
    "print(type(first_value))\n"
   ]
  },
  {
   "cell_type": "code",
   "execution_count": null,
   "metadata": {},
   "outputs": [],
   "source": [
    "second_value= input(\"Enter a string : \")\n",
    "print(\"you selected {}\".format(second_value))\n",
    "print(type(second_value))\n"
   ]
  },
  {
   "cell_type": "code",
   "execution_count": null,
   "metadata": {},
   "outputs": [],
   "source": [
    "third_value= float(input(\"Enter a float value: \"))\n",
    "print(\"you selected {}\".format(third_value))\n",
    "print(type(third_value))\n"
   ]
  },
  {
   "cell_type": "code",
   "execution_count": null,
   "metadata": {},
   "outputs": [],
   "source": [
    "x= int(input(\"How many books did you read in 2020 ? \"))\n",
    "y= input(\"What is your favorite book ? \")\n",
    "dict1= {\"How_many_books_did_you_read_in_2020\": x, \"What_is_your_favorite_book?\": y}\n",
    "print(\"You read {}\" \" books in 2020 and {}\" \" is your favorite book. {} is a good choice ! \".format(x,y,y)) \n",
    "print(dict1)\n",
    "print(type(dict1))"
   ]
  },
  {
   "cell_type": "code",
   "execution_count": 4,
   "metadata": {},
   "outputs": [
    {
     "name": "stdin",
     "output_type": "stream",
     "text": [
      "Enter your one wish for 2021: dsfd\n"
     ]
    },
    {
     "name": "stdout",
     "output_type": "stream",
     "text": [
      "Your wish is: ['dsfd']\n",
      "\n",
      "The type of wish: \n",
      "<class 'list'>\n",
      " Happy New Year with Your Wish and Happiness :) \n"
     ]
    }
   ],
   "source": [
    "a= input(\"Enter your one wish for 2021:\").split()\n",
    "print(\"Your wish is: {}\".format(a))\n",
    "print()\n",
    "Your_wish=[a]\n",
    "print(\"The type of wish: \")\n",
    "print(type(Your_wish))\n",
    "print(\" Happy New Year with Your Wish and Happiness :) \")"
   ]
  },
  {
   "cell_type": "code",
   "execution_count": null,
   "metadata": {},
   "outputs": [],
   "source": []
  },
  {
   "cell_type": "code",
   "execution_count": null,
   "metadata": {},
   "outputs": [],
   "source": []
  }
 ],
 "metadata": {
  "kernelspec": {
   "display_name": "Python 3",
   "language": "python",
   "name": "python3"
  },
  "language_info": {
   "codemirror_mode": {
    "name": "ipython",
    "version": 3
   },
   "file_extension": ".py",
   "mimetype": "text/x-python",
   "name": "python",
   "nbconvert_exporter": "python",
   "pygments_lexer": "ipython3",
   "version": "3.9.0"
  }
 },
 "nbformat": 4,
 "nbformat_minor": 4
}
